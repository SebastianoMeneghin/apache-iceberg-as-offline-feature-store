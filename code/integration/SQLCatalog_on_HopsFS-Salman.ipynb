{
 "cells": [
  {
   "cell_type": "code",
   "execution_count": null,
   "id": "364e3972",
   "metadata": {},
   "outputs": [],
   "source": [
    "# Install the PyIceberg library, then fix the dependency problem with SQLAlchemy library\n",
    "!pip install pyiceberg[pyarrow,duckdb,sql-sqlite]\n",
    "!pip install sqlalchemy==2.0.28 --upgrade"
   ]
  },
  {
   "cell_type": "code",
   "execution_count": null,
   "id": "f61f429e",
   "metadata": {},
   "outputs": [],
   "source": [
    "# Create a folder where to save on HopsFS\n",
    "!mkdir /home/yarnapp/hopsfs/Resources/test_dir\n",
    "!mkdir /home/yarnapp/hopsfs/Resources/test_dir/test_data"
   ]
  },
  {
   "cell_type": "code",
   "execution_count": null,
   "id": "9eca86d6",
   "metadata": {},
   "outputs": [],
   "source": [
    "# Import the needed libraries\n",
    "from pyiceberg.catalog.sql import SqlCatalog\n",
    "import pyarrow.parquet as pq\n",
    "import pyarrow.compute as pc\n",
    "import os\n",
    "import importlib\n",
    "from urllib.parse import urlparse\n",
    "from typing import Dict, List\n",
    "from pyarrow.fs import HadoopFileSystem\n",
    "from functools import lru_cache"
   ]
  },
  {
   "cell_type": "code",
   "execution_count": null,
   "id": "4c2a45a8",
   "metadata": {},
   "outputs": [],
   "source": [
    "# Set the path to the right test directories\n",
    "test_dir_path  = \"/home/yarnapp/hopsfs/Resources/test_dir\"\n",
    "test_data_path = \"/home/yarnapp/hopsfs/Resources/test_dir/test_data\""
   ]
  },
  {
   "cell_type": "code",
   "execution_count": null,
   "id": "5572b530",
   "metadata": {},
   "outputs": [],
   "source": [
    "hdfs_path = \"/Projects/iceberg/Resources/test_dir/test_data\"\n",
    "test_hdfs_path = \"namenode.service.consul:8020/Projects/iceberg/Resources/test_dir/test_data\"\n",
    "\n",
    "# Create a catalog (ONLY THE FIRST TIME) - \"name\", **{properties}\n",
    "test_catalog = SqlCatalog(\n",
    "    \"default\",\n",
    "    **{\n",
    "        \"uri\": f\"sqlite:///{test_data_path}/pyiceberg_test1_catalog.db\",\n",
    "        \"warehouse\": f\"hdfs://{test_hdfs_path}\",\n",
    "    },\n",
    ")\n",
    "\n",
    "# Print the object catalog, to show the catalog type\n",
    "print(test_catalog)"
   ]
  },
  {
   "cell_type": "code",
   "execution_count": null,
   "id": "7ef50e93",
   "metadata": {},
   "outputs": [],
   "source": [
    "# Get the NYC Taxi dataset from the network\n",
    "nyc_data_path = test_dir_path + \"/nyc_taxi_data.parquet\"\n",
    "!curl https://d37ci6vzurychx.cloudfront.net/trip-data/yellow_tripdata_2023-01.parquet -o \"/home/yarnapp/hopsfs/Resources/test_dir/nyc_taxi_data.parquet\"\n",
    "    \n",
    "# Then, load the data into a Parquet DataFrame (df)\n",
    "df = pq.read_table(nyc_data_path)"
   ]
  },
  {
   "cell_type": "code",
   "execution_count": null,
   "id": "02fd934a",
   "metadata": {},
   "outputs": [],
   "source": [
    "# Create a new namespace\n",
    "test_catalog.create_namespace(\"test_ns\")"
   ]
  },
  {
   "cell_type": "code",
   "execution_count": null,
   "id": "b03ef89c",
   "metadata": {},
   "outputs": [],
   "source": [
    "# Create a new table \"test_table\", specifying the schema according to the df's schema\n",
    "test_table = test_catalog.create_table(\n",
    "    \"test_ns.nyc_taxiii\",\n",
    "    schema=df.schema,\n",
    ")"
   ]
  },
  {
   "cell_type": "markdown",
   "id": "e30a3078",
   "metadata": {},
   "source": [
    "#### Test the data insertion"
   ]
  },
  {
   "cell_type": "code",
   "execution_count": null,
   "id": "c1c64949",
   "metadata": {},
   "outputs": [],
   "source": [
    "# Append the dataframe to the test_table, showing the difference between before and after the operation\n",
    "print(\"Before the append operation, there are \" + str(len(test_table.scan().to_arrow())) + \"rows in the table\")\n",
    "test_table.append(df)\n",
    "print(\"After the append operation, there are \" + str(len(test_table.scan().to_arrow())) + \"rows in the table\")"
   ]
  },
  {
   "cell_type": "markdown",
   "id": "1412552e",
   "metadata": {},
   "source": [
    "#### Test the schema evolution"
   ]
  },
  {
   "cell_type": "code",
   "execution_count": null,
   "id": "e715f385",
   "metadata": {},
   "outputs": [],
   "source": [
    "# Create a new dataframe, equal to df but with a new column\n",
    "updated_df = df.append_column(\"tip_per_mile\", pc.divide(df[\"tip_amount\"], df[\"trip_distance\"]))\n",
    "\n",
    "# Extract then the new schema information and save them in a new file\n",
    "with test_table.update_schema() as update_schema:\n",
    "    update_schema.union_by_name(updated_df.schema)"
   ]
  },
  {
   "cell_type": "code",
   "execution_count": null,
   "id": "cecded01",
   "metadata": {},
   "outputs": [],
   "source": [
    "# Overwrite the previous table, adding the new dataframe\n",
    "test_table.overwrite(updated_df)\n",
    "print(test_table.scan().to_arrow())"
   ]
  },
  {
   "cell_type": "markdown",
   "id": "086a4087",
   "metadata": {},
   "source": [
    "#### Test the table scan and file retrieval"
   ]
  },
  {
   "cell_type": "code",
   "execution_count": null,
   "id": "ee0ae47c",
   "metadata": {},
   "outputs": [],
   "source": [
    "df = test_table.scan(row_filter=\"tip_per_mile > 0\").to_arrow()\n",
    "len(df)"
   ]
  },
  {
   "cell_type": "code",
   "execution_count": null,
   "id": "dbee2eb3",
   "metadata": {},
   "outputs": [],
   "source": [
    "!find /home/yarnapp/hopsfs/Resources/test_dir/test_data"
   ]
  },
  {
   "cell_type": "markdown",
   "id": "39e870d4",
   "metadata": {},
   "source": [
    "---\n",
    "#### @FINAL Delete all the data and files created"
   ]
  },
  {
   "cell_type": "code",
   "execution_count": null,
   "id": "e88c0297",
   "metadata": {},
   "outputs": [],
   "source": [
    "# Just call it if you are at the end of your own test\n",
    "! rm -r /home/yarnapp/hopsfs/Resources/test_dir"
   ]
  }
 ],
 "metadata": {
  "kernelspec": {
   "display_name": "Python 3",
   "language": "python",
   "name": "python3"
  },
  "language_info": {
   "codemirror_mode": {
    "name": "ipython",
    "version": 3
   },
   "file_extension": ".py",
   "mimetype": "text/x-python",
   "name": "python",
   "nbconvert_exporter": "python",
   "pygments_lexer": "ipython3",
   "version": "3.10.11"
  }
 },
 "nbformat": 4,
 "nbformat_minor": 5
}
