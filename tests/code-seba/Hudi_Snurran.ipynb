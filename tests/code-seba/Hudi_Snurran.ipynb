{
 "cells": [
  {
   "cell_type": "markdown",
   "id": "8d461547",
   "metadata": {},
   "source": [
    "## Hudi on Snurran\n",
    "This notebook test the reading and writing times of Apache Hudi on HopsFS, passing through Hopsworks, deployed on Snurran for better performances (thanks to NVMe disks).\n",
    "The procedures followed is the same used to test PyIceberg with both Polars/Pandas."
   ]
  },
  {
   "cell_type": "code",
   "execution_count": null,
   "id": "0b08a442",
   "metadata": {},
   "outputs": [],
   "source": [
    "# ONLY ONCE!\n",
    "# Get the NYC Taxi dataset from the network\n",
    "!curl https://d37ci6vzurychx.cloudfront.net/trip-data/yellow_tripdata_2023-01.parquet -o \"/home/yarnapp/hopsfs/Resources/nyc_taxiparquet\""
   ]
  },
  {
   "cell_type": "code",
   "execution_count": null,
   "id": "52933048",
   "metadata": {},
   "outputs": [],
   "source": [
    "!pip install pandas --upgrade\n",
    "!pip install polars"
   ]
  },
  {
   "cell_type": "code",
   "execution_count": 1,
   "id": "101c18b9",
   "metadata": {},
   "outputs": [],
   "source": [
    "import hopsworks\n",
    "import numpy as np\n",
    "import pandas as pd\n",
    "import polars as pl\n",
    "import os\n",
    "import importlib\n",
    "import time\n",
    "import math\n",
    "import string\n",
    "import random\n",
    "import sys\n",
    "import requests\n",
    "import re"
   ]
  },
  {
   "cell_type": "code",
   "execution_count": 2,
   "id": "9d1b0707",
   "metadata": {},
   "outputs": [],
   "source": [
    "def column_renamer(df):\n",
    "    '''\n",
    "    Given a dataframe, renames all the column to small lower case, in order to make it possible to save the dataframe on Hopsworks\n",
    "    via the usage of a Feature Group.\n",
    "    '''\n",
    "    \n",
    "    for name in df.columns:\n",
    "        df.rename(columns={name : name.lower()}, inplace=True)\n",
    "    \n",
    "    return df"
   ]
  },
  {
   "cell_type": "code",
   "execution_count": 3,
   "id": "99ca48cd",
   "metadata": {},
   "outputs": [],
   "source": [
    "def time_printer(total_time):\n",
    "    minutes = math.floor(total_time / 60)\n",
    "    seconds = math.ceil( total_time % 60)\n",
    "    \n",
    "    to_print = \"\"\n",
    "    if (minutes > 0):\n",
    "        to_print = str(minutes) + \"m \"\n",
    "        \n",
    "    to_print = to_print + str(seconds) +\"s \"\n",
    "    return to_print"
   ]
  },
  {
   "cell_type": "code",
   "execution_count": 4,
   "id": "52d8d299",
   "metadata": {},
   "outputs": [],
   "source": [
    "def extract_time(text):\n",
    "    pattern = r'(\\d+m\\s*)?\\d+(\\.\\d+)?s'\n",
    "    match = re.search(pattern, text)\n",
    "    if match:\n",
    "        return match.group()\n",
    "    else:\n",
    "        return None"
   ]
  },
  {
   "cell_type": "code",
   "execution_count": 5,
   "id": "7aeadbf1",
   "metadata": {},
   "outputs": [],
   "source": [
    "# Load the data previously downloaded into a Parquet DataFrame (df)\n",
    "nyc_data_path = \"/home/yarnapp/hopsfs/Resources/nyc_taxiparquet\"\n",
    "df = pd.read_parquet(nyc_data_path)"
   ]
  },
  {
   "cell_type": "code",
   "execution_count": 6,
   "id": "d0522dd5",
   "metadata": {},
   "outputs": [],
   "source": [
    "# Bring the column names to lower cases\n",
    "df = column_renamer(df)"
   ]
  },
  {
   "cell_type": "code",
   "execution_count": 7,
   "id": "1aec56b4",
   "metadata": {},
   "outputs": [],
   "source": [
    "# 🧪🧪 TESTING 🧪🧪\n",
    "# Reduce the size of the dataframe, just for testing purposes.\n",
    "#df = df[0:20]"
   ]
  },
  {
   "cell_type": "code",
   "execution_count": 8,
   "id": "fb0a6f1e",
   "metadata": {},
   "outputs": [
    {
     "name": "stdout",
     "output_type": "stream",
     "text": [
      "0.574670372530818 GBs occupied by the Pandas Dataframe!\n"
     ]
    }
   ],
   "source": [
    "print(str(int(sys.getsizeof(df))/(1024*1024*1024)) + \" GBs occupied by the Pandas Dataframe!\")"
   ]
  },
  {
   "cell_type": "code",
   "execution_count": 9,
   "id": "9ad7dedf",
   "metadata": {},
   "outputs": [
    {
     "name": "stdout",
     "output_type": "stream",
     "text": [
      "Connected. Call `.close()` to terminate connection gracefully.\n",
      "\n",
      "Logged in to project, explore it here https://snurran.hops.works/p/15483\n",
      "Connected. Call `.close()` to terminate connection gracefully.\n"
     ]
    },
    {
     "data": {
      "application/vnd.jupyter.widget-view+json": {
       "model_id": "b2aff9ffd6f348e1b033eff9b489df6f",
       "version_major": 2,
       "version_minor": 0
      },
      "text/plain": [
       "Uploading Dataframe: 0.00% |          | Rows 0/3066766 | Elapsed Time: 00:00 | Remaining Time: ?"
      ]
     },
     "metadata": {},
     "output_type": "display_data"
    },
    {
     "name": "stdout",
     "output_type": "stream",
     "text": [
      "Launching job: hudi_test_1_offline_fg_materialization\n",
      "Job started successfully, you can follow the progress at \n",
      "https://snurran.hops.works/p/15483/jobs/named/hudi_test_1_offline_fg_materialization/executions\n",
      "\n",
      "**Time needed to login:       2s **\n",
      "**Time needed to create fg:   2s **\n",
      "**Time needed to insert data: 2m 49s **\n"
     ]
    }
   ],
   "source": [
    "#%%capture creation_time\n",
    "# Login to the project and insert/upload the new dataset in a new feature group, while keeping track of the time required by each operation.\n",
    "before_login = time.time()\n",
    "project = hopsworks.login()\n",
    "\n",
    "before_creation = time.time()\n",
    "fs = project.get_feature_store()\n",
    "fg = fs.get_or_create_feature_group(\n",
    "    name=\"hudi_test\",\n",
    "    version=1,\n",
    "    primary_key=df.columns,\n",
    "    description='Uploaded NYC Dataset for testing reasons')\n",
    "\n",
    "before_insertion = time.time()\n",
    "fg.insert(df)\n",
    "before_materialization = time.time()\n",
    "\n",
    "print(\"\\n**Time needed to login:       \" + time_printer(before_creation        - before_login)     + \"**\")\n",
    "print(\"**Time needed to create fg:   \"   + time_printer(before_insertion       - before_creation)  + \"**\")\n",
    "print(\"**Time needed to insert data: \"   + time_printer(before_materialization - before_insertion) + \"**\")"
   ]
  },
  {
   "cell_type": "code",
   "execution_count": 10,
   "id": "2e76332e",
   "metadata": {},
   "outputs": [
    {
     "name": "stdout",
     "output_type": "stream",
     "text": [
      "\n",
      "**Time needed to materialize: 4m 8s (+/- 2s) **\n",
      "\n"
     ]
    }
   ],
   "source": [
    "# Check the repeatedly the status of the metarialization_job. When it is FINISHED,\n",
    "# get the current time and calculate the time required by the materialization.\n",
    "while(fg.materialization_job.get_state() != 'FINISHED'):\n",
    "    time.sleep(2)\n",
    "after_materialization = time.time()\n",
    "\n",
    "final_state = fg.materialization_job.get_final_state()\n",
    "if (final_state != 'SUCCEEDED'):\n",
    "    print(\"\\nWARNING: The final state is: \" + str(final_state))\n",
    "    \n",
    "print(\"\\n**Time needed to materialize: \" + time_printer(after_materialization - before_materialization) + \"(+/- 2s) **\\n\")"
   ]
  },
  {
   "cell_type": "code",
   "execution_count": 13,
   "id": "f47749ac",
   "metadata": {},
   "outputs": [],
   "source": [
    "%%capture captured_read_print\n",
    "# Test the reading time and save these metrics for further evaluations.\n",
    "before_read = time.time()\n",
    "fg.read()\n",
    "after_read  = time.time()\n",
    "\n",
    "#print(\"\\n**Time needed to read: \" + time_printer(after_read - before_read) + \"**\")"
   ]
  },
  {
   "cell_type": "code",
   "execution_count": 14,
   "id": "ac23926b",
   "metadata": {},
   "outputs": [
    {
     "name": "stdout",
     "output_type": "stream",
     "text": [
      "21.97s\n"
     ]
    }
   ],
   "source": [
    "read_time = extract_time(str(captured_read_print))\n",
    "print(read_time)"
   ]
  },
  {
   "cell_type": "markdown",
   "id": "3840cc53",
   "metadata": {},
   "source": [
    "---\n",
    "#### @FINAL Delete all the data and files created"
   ]
  },
  {
   "cell_type": "code",
   "execution_count": null,
   "id": "fadad89d",
   "metadata": {},
   "outputs": [],
   "source": [
    "fg.delete()"
   ]
  },
  {
   "cell_type": "code",
   "execution_count": null,
   "id": "47e2ae96",
   "metadata": {},
   "outputs": [],
   "source": []
  }
 ],
 "metadata": {
  "kernelspec": {
   "display_name": "Python 3",
   "language": "python",
   "name": "python3"
  },
  "language_info": {
   "codemirror_mode": {
    "name": "ipython",
    "version": 3
   },
   "file_extension": ".py",
   "mimetype": "text/x-python",
   "name": "python",
   "nbconvert_exporter": "python",
   "pygments_lexer": "ipython3",
   "version": "3.10.11"
  }
 },
 "nbformat": 4,
 "nbformat_minor": 5
}
